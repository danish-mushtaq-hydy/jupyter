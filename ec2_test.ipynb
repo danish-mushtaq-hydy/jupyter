{
  "cells": [
    {
      "cell_type": "code",
      "execution_count": null,
      "id": "91831d3e",
      "metadata": {
        "id": "91831d3e",
        "outputId": "77a0e90a-64cb-4614-9b8d-45b4ccd96fb6"
      },
      "outputs": [
        {
          "name": "stdout",
          "output_type": "stream",
          "text": [
            "/home/ec2-user/SageMaker/diops\r\n"
          ]
        }
      ],
      "source": [
        "!pwd"
      ]
    },
    {
      "cell_type": "code",
      "execution_count": null,
      "id": "409c4247",
      "metadata": {
        "id": "409c4247",
        "outputId": "c2675230-100c-4755-e24a-8e84472e1dcc"
      },
      "outputs": [
        {
          "name": "stdout",
          "output_type": "stream",
          "text": [
            "docker\t       README.md\t\t Supply Planning\r\n",
            "Dockerfile     sagemaker-pipeline.ipynb  test.ipynb\r\n",
            "preprocess.py  Snowflake Setup\t\t testOut.ipynb\r\n"
          ]
        }
      ],
      "source": [
        "!ls"
      ]
    },
    {
      "cell_type": "code",
      "execution_count": null,
      "id": "2e0095d3",
      "metadata": {
        "id": "2e0095d3",
        "outputId": "e2b280b0-cea9-47b5-a15d-4a29d08b17d4"
      },
      "outputs": [
        {
          "name": "stdout",
          "output_type": "stream",
          "text": [
            "i am testing the sagemaker notebook exeecution from lifecyle config\n"
          ]
        }
      ],
      "source": [
        "print(\"i am testing the sagemaker notebook exeecution from lifecyle config\")"
      ]
    },
    {
      "cell_type": "code",
      "execution_count": 2,
      "id": "a78615b4",
      "metadata": {
        "id": "a78615b4"
      },
      "outputs": [],
      "source": [
        "!touch def.txt"
      ]
    },
    {
      "cell_type": "code",
      "source": [
        ""
      ],
      "metadata": {
        "id": "GXDQqle78p-O"
      },
      "id": "GXDQqle78p-O",
      "execution_count": null,
      "outputs": []
    }
  ],
  "metadata": {
    "kernelspec": {
      "display_name": "conda_python3",
      "language": "python",
      "name": "conda_python3"
    },
    "language_info": {
      "codemirror_mode": {
        "name": "ipython",
        "version": 3
      },
      "file_extension": ".py",
      "mimetype": "text/x-python",
      "name": "python",
      "nbconvert_exporter": "python",
      "pygments_lexer": "ipython3",
      "version": "3.6.13"
    },
    "colab": {
      "name": "ec2_test.ipynb",
      "provenance": []
    }
  },
  "nbformat": 4,
  "nbformat_minor": 5
}