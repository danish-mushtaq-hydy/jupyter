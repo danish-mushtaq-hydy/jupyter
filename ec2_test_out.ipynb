{
 "cells": [
  {
   "cell_type": "code",
   "execution_count": 1,
   "id": "91831d3e",
   "metadata": {
    "execution": {
     "iopub.execute_input": "2021-12-23T15:46:35.578256Z",
     "iopub.status.busy": "2021-12-23T15:46:35.577521Z",
     "iopub.status.idle": "2021-12-23T15:46:35.733248Z",
     "shell.execute_reply": "2021-12-23T15:46:35.731779Z"
    },
    "id": "91831d3e",
    "outputId": "77a0e90a-64cb-4614-9b8d-45b4ccd96fb6",
    "papermill": {
     "duration": 0.169686,
     "end_time": "2021-12-23T15:46:35.733426",
     "exception": false,
     "start_time": "2021-12-23T15:46:35.563740",
     "status": "completed"
    },
    "tags": []
   },
   "outputs": [
    {
     "name": "stdout",
     "output_type": "stream",
     "text": [
      "/home/ec2-user/jupyter\r\n"
     ]
    }
   ],
   "source": [
    "!pwd"
   ]
  },
  {
   "cell_type": "code",
   "execution_count": 2,
   "id": "409c4247",
   "metadata": {
    "execution": {
     "iopub.execute_input": "2021-12-23T15:46:35.749994Z",
     "iopub.status.busy": "2021-12-23T15:46:35.749303Z",
     "iopub.status.idle": "2021-12-23T15:46:35.900429Z",
     "shell.execute_reply": "2021-12-23T15:46:35.899096Z"
    },
    "id": "409c4247",
    "outputId": "c2675230-100c-4755-e24a-8e84472e1dcc",
    "papermill": {
     "duration": 0.161267,
     "end_time": "2021-12-23T15:46:35.900590",
     "exception": false,
     "start_time": "2021-12-23T15:46:35.739323",
     "status": "completed"
    },
    "tags": []
   },
   "outputs": [
    {
     "name": "stdout",
     "output_type": "stream",
     "text": [
      "ec2_test.ipynb\tec2_test_out.ipynb  test.ipynb\r\n"
     ]
    }
   ],
   "source": [
    "!ls"
   ]
  },
  {
   "cell_type": "code",
   "execution_count": 3,
   "id": "2e0095d3",
   "metadata": {
    "execution": {
     "iopub.execute_input": "2021-12-23T15:46:35.918848Z",
     "iopub.status.busy": "2021-12-23T15:46:35.918081Z",
     "iopub.status.idle": "2021-12-23T15:46:35.920949Z",
     "shell.execute_reply": "2021-12-23T15:46:35.919490Z"
    },
    "id": "2e0095d3",
    "outputId": "e2b280b0-cea9-47b5-a15d-4a29d08b17d4",
    "papermill": {
     "duration": 0.014852,
     "end_time": "2021-12-23T15:46:35.921087",
     "exception": false,
     "start_time": "2021-12-23T15:46:35.906235",
     "status": "completed"
    },
    "tags": []
   },
   "outputs": [
    {
     "name": "stdout",
     "output_type": "stream",
     "text": [
      "i am testing the sagemaker notebook exeecution from lifecyle config\n"
     ]
    }
   ],
   "source": [
    "print(\"i am testing the sagemaker notebook exeecution from lifecyle config\")"
   ]
  },
  {
   "cell_type": "code",
   "execution_count": 4,
   "id": "a78615b4",
   "metadata": {
    "execution": {
     "iopub.execute_input": "2021-12-23T15:46:35.938824Z",
     "iopub.status.busy": "2021-12-23T15:46:35.938157Z",
     "iopub.status.idle": "2021-12-23T15:46:36.086916Z",
     "shell.execute_reply": "2021-12-23T15:46:36.085927Z"
    },
    "id": "a78615b4",
    "papermill": {
     "duration": 0.160514,
     "end_time": "2021-12-23T15:46:36.087094",
     "exception": false,
     "start_time": "2021-12-23T15:46:35.926580",
     "status": "completed"
    },
    "tags": []
   },
   "outputs": [],
   "source": [
    "!touch def.txt"
   ]
  },
  {
   "cell_type": "code",
   "execution_count": null,
   "id": "GXDQqle78p-O",
   "metadata": {
    "id": "GXDQqle78p-O",
    "papermill": {
     "duration": 0.005737,
     "end_time": "2021-12-23T15:46:36.099585",
     "exception": false,
     "start_time": "2021-12-23T15:46:36.093848",
     "status": "completed"
    },
    "tags": []
   },
   "outputs": [],
   "source": []
  }
 ],
 "metadata": {
  "colab": {
   "name": "ec2_test.ipynb",
   "provenance": []
  },
  "kernelspec": {
   "display_name": "conda_python3",
   "language": "python",
   "name": "conda_python3"
  },
  "language_info": {
   "codemirror_mode": {
    "name": "ipython",
    "version": 3
   },
   "file_extension": ".py",
   "mimetype": "text/x-python",
   "name": "python",
   "nbconvert_exporter": "python",
   "pygments_lexer": "ipython3",
   "version": "3.7.10"
  },
  "papermill": {
   "default_parameters": {},
   "duration": 2.051875,
   "end_time": "2021-12-23T15:46:36.218117",
   "environment_variables": {},
   "exception": null,
   "input_path": "ec2_test.ipynb",
   "output_path": "ec2_test_out.ipynb",
   "parameters": {},
   "start_time": "2021-12-23T15:46:34.166242",
   "version": "2.3.3"
  }
 },
 "nbformat": 4,
 "nbformat_minor": 5
}