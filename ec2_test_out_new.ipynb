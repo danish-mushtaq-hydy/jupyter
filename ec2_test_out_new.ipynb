{
 "cells": [
  {
   "cell_type": "code",
   "execution_count": 1,
   "id": "91831d3e",
   "metadata": {
    "execution": {
     "iopub.execute_input": "2021-12-24T06:11:23.678252Z",
     "iopub.status.busy": "2021-12-24T06:11:23.677534Z",
     "iopub.status.idle": "2021-12-24T06:11:23.833161Z",
     "shell.execute_reply": "2021-12-24T06:11:23.831726Z"
    },
    "id": "91831d3e",
    "outputId": "77a0e90a-64cb-4614-9b8d-45b4ccd96fb6",
    "papermill": {
     "duration": 0.170599,
     "end_time": "2021-12-24T06:11:23.833338",
     "exception": false,
     "start_time": "2021-12-24T06:11:23.662739",
     "status": "completed"
    },
    "tags": []
   },
   "outputs": [
    {
     "name": "stdout",
     "output_type": "stream",
     "text": [
      "/home/ec2-user/jupyter\r\n"
     ]
    }
   ],
   "source": [
    "!pwd"
   ]
  },
  {
   "cell_type": "code",
   "execution_count": 2,
   "id": "409c4247",
   "metadata": {
    "execution": {
     "iopub.execute_input": "2021-12-24T06:11:23.849971Z",
     "iopub.status.busy": "2021-12-24T06:11:23.849292Z",
     "iopub.status.idle": "2021-12-24T06:11:24.001464Z",
     "shell.execute_reply": "2021-12-24T06:11:24.000129Z"
    },
    "id": "409c4247",
    "outputId": "c2675230-100c-4755-e24a-8e84472e1dcc",
    "papermill": {
     "duration": 0.162561,
     "end_time": "2021-12-24T06:11:24.001627",
     "exception": false,
     "start_time": "2021-12-24T06:11:23.839066",
     "status": "completed"
    },
    "tags": []
   },
   "outputs": [
    {
     "name": "stdout",
     "output_type": "stream",
     "text": [
      "def.txt  ec2_test.ipynb  ec2_test_out.ipynb  ec2_test_out_new.ipynb  test.ipynb\r\n"
     ]
    }
   ],
   "source": [
    "!ls"
   ]
  },
  {
   "cell_type": "code",
   "execution_count": 3,
   "id": "2e0095d3",
   "metadata": {
    "execution": {
     "iopub.execute_input": "2021-12-24T06:11:24.018683Z",
     "iopub.status.busy": "2021-12-24T06:11:24.017995Z",
     "iopub.status.idle": "2021-12-24T06:11:24.021746Z",
     "shell.execute_reply": "2021-12-24T06:11:24.022270Z"
    },
    "id": "2e0095d3",
    "outputId": "e2b280b0-cea9-47b5-a15d-4a29d08b17d4",
    "papermill": {
     "duration": 0.015228,
     "end_time": "2021-12-24T06:11:24.022456",
     "exception": false,
     "start_time": "2021-12-24T06:11:24.007228",
     "status": "completed"
    },
    "tags": []
   },
   "outputs": [
    {
     "name": "stdout",
     "output_type": "stream",
     "text": [
      "i am testing the sagemaker notebook exeecution from lifecyle config\n"
     ]
    }
   ],
   "source": [
    "print(\"i am testing the sagemaker notebook exeecution from lifecyle config\")"
   ]
  },
  {
   "cell_type": "code",
   "execution_count": 4,
   "id": "a78615b4",
   "metadata": {
    "execution": {
     "iopub.execute_input": "2021-12-24T06:11:24.040209Z",
     "iopub.status.busy": "2021-12-24T06:11:24.039519Z",
     "iopub.status.idle": "2021-12-24T06:11:24.188600Z",
     "shell.execute_reply": "2021-12-24T06:11:24.187612Z"
    },
    "id": "a78615b4",
    "papermill": {
     "duration": 0.16087,
     "end_time": "2021-12-24T06:11:24.188759",
     "exception": false,
     "start_time": "2021-12-24T06:11:24.027889",
     "status": "completed"
    },
    "tags": []
   },
   "outputs": [],
   "source": [
    "!touch def.txt"
   ]
  },
  {
   "cell_type": "code",
   "execution_count": null,
   "id": "GXDQqle78p-O",
   "metadata": {
    "id": "GXDQqle78p-O",
    "papermill": {
     "duration": 0.005596,
     "end_time": "2021-12-24T06:11:24.200901",
     "exception": false,
     "start_time": "2021-12-24T06:11:24.195305",
     "status": "completed"
    },
    "tags": []
   },
   "outputs": [],
   "source": []
  }
 ],
 "metadata": {
  "colab": {
   "name": "ec2_test.ipynb",
   "provenance": []
  },
  "kernelspec": {
   "display_name": "conda_python3",
   "language": "python",
   "name": "conda_python3"
  },
  "language_info": {
   "codemirror_mode": {
    "name": "ipython",
    "version": 3
   },
   "file_extension": ".py",
   "mimetype": "text/x-python",
   "name": "python",
   "nbconvert_exporter": "python",
   "pygments_lexer": "ipython3",
   "version": "3.7.10"
  },
  "papermill": {
   "default_parameters": {},
   "duration": 2.054924,
   "end_time": "2021-12-24T06:11:24.320262",
   "environment_variables": {},
   "exception": null,
   "input_path": "ec2_test.ipynb",
   "output_path": "ec2_test_out_new.ipynb",
   "parameters": {},
   "start_time": "2021-12-24T06:11:22.265338",
   "version": "2.3.3"
  }
 },
 "nbformat": 4,
 "nbformat_minor": 5
}